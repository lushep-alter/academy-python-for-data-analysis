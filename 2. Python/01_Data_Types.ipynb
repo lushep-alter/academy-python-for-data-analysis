{
 "cells": [
  {
   "cell_type": "markdown",
   "id": "706ba736",
   "metadata": {},
   "source": [
    "<img src=images/gdd-logo.png align=right width=300px>\n",
    "\n",
    "# Data types\n",
    "\n",
    "In programming, data types are an important concept.\n",
    "\n",
    "In this section, we are going to cover:\n",
    "\n",
    "* [Data types overview](#type-overview)\n",
    "* [Converting to another data type](#convert)\n",
    "* [Checking the type](#type-check)\n",
    "* [Calculations using ints and floats](#ints-floats)\n",
    "* [String operations](#string-op) \n",
    "* [String methods](#string-method)\n",
    "* [Using the in operator](#in-operator)\n",
    "* <mark>[Exercise: Change the sentence](#exercise)</mark>\n",
    "\n",
    "\n",
    "<a id='type-overview'></a> \n",
    "## Data types overview\n",
    "\n",
    "Variables can store data of different types, and different types can do different things.\n",
    "\n",
    "Python has the following data types built-in by default, we're going to look at:\n",
    "\n",
    "Numeric:\n",
    "* `int`: integers AKA *whole numbers*, e.g. `0`, `1`, `2`, `3`, ...\n",
    "* `float`: floating point numbers AKA *numbers with decimals*, e.g. `0.1234`, `1.2354`, ...\n",
    "* `bool`: booleans AKA things that can either be `True` or `False`\n",
    "\n",
    "Non-numeric/text:\n",
    "* `str`: strings AKA *text*, e.g. `\"hello, this is a string\"`\n",
    "\n",
    "![numbers](images/numbers.png)"
   ]
  },
  {
   "cell_type": "markdown",
   "id": "7d4b1bba",
   "metadata": {},
   "source": [
    "<a id = 'type-check'></a>\n",
    "## Checking the type\n",
    "\n",
    "You can get the data type of any object by using the type() function:\n",
    "```python\n",
    ">> var = 3\n",
    ">> type(var)\n",
    "int\n",
    "```\n",
    "<mark>**Practice:** What is the type of each of these variables?</mark>\n",
    "    \n",
    "- Add what you think in a comment (e.g. `# integer`) at the end of each line\n",
    "- Use `type()` to check if you were right!"
   ]
  },
  {
   "cell_type": "code",
   "execution_count": null,
   "id": "7de8592c",
   "metadata": {},
   "outputs": [],
   "source": [
    "q = 2 # integer\n",
    "w = 2.4\n",
    "e = '24.5'\n",
    "r = 4.\n",
    "t = True\n",
    "y = \"Hello world!\""
   ]
  },
  {
   "cell_type": "code",
   "execution_count": null,
   "id": "63103b8f",
   "metadata": {},
   "outputs": [],
   "source": [
    "# try it out here\n",
    "type(w)"
   ]
  },
  {
   "cell_type": "markdown",
   "id": "ca5c9801-b22b-4753-8cca-7876d0c8d68a",
   "metadata": {},
   "source": [
    "<a id = 'convert'></a>\n",
    "## Converting to another data type\n",
    "\n",
    "Need to convert a data type? The following functions will be really useful:\n",
    "\n",
    "```python\n",
    "float()\n",
    "int()\n",
    "str()\n",
    "bool()\n",
    "```"
   ]
  },
  {
   "cell_type": "code",
   "execution_count": null,
   "id": "1a2834c9",
   "metadata": {},
   "outputs": [],
   "source": [
    "float(\"56\")"
   ]
  },
  {
   "cell_type": "markdown",
   "id": "56e00fd8-7304-430b-98ce-8f5ad6c8a77b",
   "metadata": {},
   "source": [
    "<mark>**Practice**: Try the following:</mark>\n",
    "1. Turn `a` into a string.\n",
    "2. Try turning `b` into a float. Is it possible?\n",
    "3. Why does `c + d` error? How can you fix it?\n",
    "4. **Bonus:** explore what happens when you try to convert numbers or strings into a `bool`."
   ]
  },
  {
   "cell_type": "code",
   "execution_count": null,
   "id": "e6ada2c5",
   "metadata": {},
   "outputs": [],
   "source": [
    "a = 4754\n",
    "b = \"I'm not a float\"\n",
    "c = \"I love the number\"\n",
    "d = 7"
   ]
  },
  {
   "cell_type": "code",
   "execution_count": null,
   "id": "1453bfc0",
   "metadata": {},
   "outputs": [],
   "source": [
    "# add your code here"
   ]
  },
  {
   "cell_type": "markdown",
   "id": "8aeaaf52-d4d3-49de-a2df-ba40b2c1131e",
   "metadata": {},
   "source": [
    "<details>\n",
    "    \n",
    "  <summary><span style=\"color:blue\">Show answer</span></summary>\n",
    "  \n",
    "```python\n",
    "print(str(a))\n",
    "print(float(b)) # will give an error\n",
    "print(c + str(d))\n",
    "```\n",
    "    \n",
    "The value you want to convert needs to be able to be that type. For example a string `\"56.43\"` can be converted into a `float` but `\"I am not a float\"` cannot!\n",
    "\n",
    "</details>"
   ]
  },
  {
   "cell_type": "markdown",
   "id": "b03bc914",
   "metadata": {},
   "source": [
    "<a id='ints-floats'></a> \n",
    "## Calculations using ints and floats\n",
    "You can perform all kinds of mathematical operations in Python. "
   ]
  },
  {
   "cell_type": "code",
   "execution_count": null,
   "id": "e34cfaa0",
   "metadata": {},
   "outputs": [],
   "source": [
    "q + w"
   ]
  },
  {
   "cell_type": "markdown",
   "id": "507a8a83-2f01-42e0-912a-78ff1bc2f1e5",
   "metadata": {},
   "source": [
    "\n",
    "\n",
    "### On 22nd April 1876...\n",
    "\n",
    "<img src=images/swanlake.png align=right width=200px>\n",
    "\n",
    "1876 Pyotr Ilyich Tchaikovsky completed his ballet \"Swan Lake\".\n",
    "\n",
    "\n",
    "\n",
    "Use the below variables to work out the following - the questions with * are more challenging.\n",
    "\n",
    "- How many years has it been since Tchaikovsky complete writing the ballet?\n",
    "- How long is the whole show? (All four acts back to back)\n",
    "- *How many years did it take for the Netherlands (NL) to premier Swan Lake?\n",
    "- *How many ballet shoes are needed in one production of Swan Lake*?\n",
    "\n",
    "*assuming each ballet dancer only needs one pair"
   ]
  },
  {
   "cell_type": "code",
   "execution_count": null,
   "id": "83de8846-7bf0-4bca-b01a-24ac44043a08",
   "metadata": {},
   "outputs": [],
   "source": [
    "year_completed = 1876\n",
    "num_acts = 4\n",
    "avg_length_acts = 38.5\n",
    "num_ballet_dancers = '120'\n",
    "year_of_first_showing_NL = 1965.0"
   ]
  },
  {
   "cell_type": "code",
   "execution_count": null,
   "id": "c35167c6",
   "metadata": {},
   "outputs": [],
   "source": [
    "# add your code here\n"
   ]
  },
  {
   "cell_type": "markdown",
   "id": "76352a01",
   "metadata": {},
   "source": [
    "<details>\n",
    "    \n",
    "  <summary><span style=\"color:blue\">Show answer</span></summary>\n",
    "  \n",
    "```python\n",
    "print(2025 - year_completed)\n",
    "print(num_acts * avg_length_acts)\n",
    "print(int(year_of_first_showing_NL - year_completed))\n",
    "print(2 * int(num_ballet_dancers))\n",
    "```\n",
    "\n",
    "</details>"
   ]
  },
  {
   "cell_type": "markdown",
   "id": "ef516f99",
   "metadata": {},
   "source": [
    "Python respects the order of mathematical operations:"
   ]
  },
  {
   "cell_type": "code",
   "execution_count": null,
   "id": "6d689b36",
   "metadata": {},
   "outputs": [],
   "source": [
    "r + 10 * q"
   ]
  },
  {
   "cell_type": "markdown",
   "id": "35626a34",
   "metadata": {},
   "source": [
    "<a id='string-op'></a> \n",
    "### Operations with strings\n",
    "\n",
    "When the `+` operator is used on strings, the strings will be concatenated.\n",
    "\n",
    "<mark>**Practice:** How about the other operators? Try to:</mark>\n",
    "1. Multiply `number` by the integer `2`\n",
    "2. Divide `number` by the integer `3`\n",
    "3. Subtract the string`'2'` from `number`\n",
    "\n",
    "**Note:** Not all will work. Which ones do?"
   ]
  },
  {
   "cell_type": "code",
   "execution_count": null,
   "id": "bb9d7862",
   "metadata": {},
   "outputs": [],
   "source": [
    "number = '12'\n",
    "\n",
    "print(number + '3')\n",
    "# add the other operators"
   ]
  },
  {
   "cell_type": "markdown",
   "id": "6f0856c9",
   "metadata": {},
   "source": [
    "<details>\n",
    "    \n",
    "  <summary><span style=\"color:blue\">Show answer</span></summary>\n",
    "  \n",
    "```python\n",
    "print(number * 2) # result: '1212'\n",
    "print(number / 3) # result: error\n",
    "print(number - '2') # result: error\n",
    "```\n",
    "    \n",
    "The string operations that work are addition and multiplication.\n",
    "\n",
    "</details>"
   ]
  },
  {
   "cell_type": "markdown",
   "id": "28f91a52",
   "metadata": {},
   "source": [
    "<a id='string-method'></a> \n",
    "### String methods\n",
    "\n",
    "We can use methods to alter objects.\n",
    "\n",
    "The methods we can use for strings are:\n",
    "\n",
    "* `.lower()`: converts the string to lowercase\n",
    "* `.upper()`: CONVERTS THE STRING TO UPPERCASE\n",
    "* `.title()`: Capitalizes Every First Letter\n",
    "* `.capitalize()`: Capitalizes only the first letter. even in multiple sentences\n",
    "* `.split()`: ['converts', 'the', 'string', 'into', 'a', 'list', 'of', 'words']\n",
    "* `.replace()`: replaces part of the string with something else (you must specify what!)"
   ]
  },
  {
   "cell_type": "code",
   "execution_count": null,
   "id": "22fcf58c",
   "metadata": {},
   "outputs": [],
   "source": [
    "sentence = \"hello there, my name is \"\n",
    "name = \"lucy sheppard\""
   ]
  },
  {
   "cell_type": "markdown",
   "id": "1cc25593-13c7-4ddf-9f57-652c0b6f01d5",
   "metadata": {},
   "source": [
    "<mark>**Practice:** Make the full sentence `Hello there, my name is Lucy Sheppard.`</mark>"
   ]
  },
  {
   "cell_type": "code",
   "execution_count": null,
   "id": "8e13f02a-5175-4ab8-8a78-2f4a01def428",
   "metadata": {},
   "outputs": [],
   "source": [
    "# code here\n"
   ]
  },
  {
   "cell_type": "markdown",
   "id": "3e9a2113-6cb9-4f2c-a9c6-00d7b1810cd2",
   "metadata": {},
   "source": [
    "<details>\n",
    "    \n",
    "  <summary><span style=\"color:blue\">Show answer</span></summary>\n",
    "  \n",
    "```python\n",
    "sentence.capitalize() + name.title() + \".\"\n",
    "```\n",
    "\n",
    "</details>"
   ]
  },
  {
   "cell_type": "markdown",
   "id": "05c0f910",
   "metadata": {},
   "source": [
    "<mark>**Practice:** What results do you expect to get for the following methods?</mark>\n",
    "\n",
    "Think about it first and then run the cell."
   ]
  },
  {
   "cell_type": "code",
   "execution_count": null,
   "id": "c6c18450",
   "metadata": {},
   "outputs": [],
   "source": [
    "sentence.capitalize()"
   ]
  },
  {
   "cell_type": "code",
   "execution_count": null,
   "id": "a0d645da",
   "metadata": {},
   "outputs": [],
   "source": [
    "sentence.split()"
   ]
  },
  {
   "cell_type": "code",
   "execution_count": null,
   "id": "8b2455d2",
   "metadata": {},
   "outputs": [],
   "source": [
    "sentence.split(\",\")"
   ]
  },
  {
   "cell_type": "code",
   "execution_count": null,
   "id": "c61d450d",
   "metadata": {},
   "outputs": [],
   "source": [
    "name.replace(\"sheppard\", \"potter\")"
   ]
  },
  {
   "cell_type": "markdown",
   "id": "71e8b4fc",
   "metadata": {},
   "source": [
    "<a id='in-operator'></a> \n",
    "## Using the in operator\n",
    "\n",
    "You check whether a string is part of a larger string by using the `in` operator."
   ]
  },
  {
   "cell_type": "code",
   "execution_count": null,
   "id": "b1493278",
   "metadata": {},
   "outputs": [],
   "source": [
    "'a' in 'amsterdam'"
   ]
  },
  {
   "cell_type": "markdown",
   "id": "263778dc",
   "metadata": {},
   "source": [
    "<mark>**Questions**:</mark>\n",
    "1. What result do you get when checking if the string above contains `'A'`? Why?\n",
    "2. What is the type of the output?"
   ]
  },
  {
   "cell_type": "code",
   "execution_count": null,
   "id": "9f9ba728",
   "metadata": {},
   "outputs": [],
   "source": [
    "# add your code here"
   ]
  },
  {
   "cell_type": "raw",
   "id": "53d60216",
   "metadata": {},
   "source": [
    "Answer: "
   ]
  },
  {
   "cell_type": "markdown",
   "id": "bdba5191",
   "metadata": {},
   "source": [
    "<details>\n",
    "    \n",
    "  <summary><span style=\"color:blue\">Show answer</span></summary>\n",
    "  \n",
    "1. The result is `False`, because it is case-sensitive.\n",
    "2. The type is a boolean (bool).\n",
    "\n",
    "</details>"
   ]
  },
  {
   "cell_type": "markdown",
   "id": "0e721a57",
   "metadata": {},
   "source": [
    "<a id='exercise'></a>\n",
    "## <mark> Exercise: Change the sentence </mark>\n",
    "\n",
    "Use what you know about data types and string methods to print the following sentence:\n",
    "\n",
    "`Hello everyone, my name is Taylor Swift. I am 35 and it was 2006 when my first album came out.`"
   ]
  },
  {
   "cell_type": "code",
   "execution_count": null,
   "id": "7488bd6f",
   "metadata": {},
   "outputs": [],
   "source": [
    "greeting = 'hello everyone,'\n",
    "my_name_is = 'MY NAME IS'\n",
    "name = 'taylor swift'\n",
    "age = 35.0\n",
    "year_of_first_album = \"and it was 2006 when my first SINGLE came out.\""
   ]
  },
  {
   "cell_type": "code",
   "execution_count": null,
   "id": "5bcacf8e",
   "metadata": {},
   "outputs": [],
   "source": [
    "# add your code here"
   ]
  },
  {
   "cell_type": "markdown",
   "id": "1d94afcb",
   "metadata": {},
   "source": [
    "<mark>**Bonus:**</mark> Print the following sentence:\n",
    "\n",
    "`My Favourite Pattern is 1231231230. Because it's cool. `"
   ]
  },
  {
   "cell_type": "code",
   "execution_count": null,
   "id": "1f67ef91",
   "metadata": {},
   "outputs": [],
   "source": [
    "start_sentence = \"my favourite pattern\"\n",
    "first_num = 123\n",
    "last_num = 0.0000\n",
    "end_sentence = \"because it's cool.\""
   ]
  },
  {
   "cell_type": "code",
   "execution_count": null,
   "id": "934f788f",
   "metadata": {},
   "outputs": [],
   "source": [
    "# add your code here\n"
   ]
  },
  {
   "cell_type": "markdown",
   "id": "f6a311a4",
   "metadata": {},
   "source": [
    "**Answers:**"
   ]
  },
  {
   "cell_type": "code",
   "execution_count": null,
   "id": "8ed7c3c5",
   "metadata": {},
   "outputs": [],
   "source": [
    "# %load answers/ex-string-int.py"
   ]
  },
  {
   "cell_type": "code",
   "execution_count": null,
   "id": "a42c9bfa",
   "metadata": {},
   "outputs": [],
   "source": [
    "# %load answers/ex-string-int2.py"
   ]
  }
 ],
 "metadata": {
  "kernelspec": {
   "display_name": "Python 3 (ipykernel)",
   "language": "python",
   "name": "python3"
  },
  "language_info": {
   "codemirror_mode": {
    "name": "ipython",
    "version": 3
   },
   "file_extension": ".py",
   "mimetype": "text/x-python",
   "name": "python",
   "nbconvert_exporter": "python",
   "pygments_lexer": "ipython3",
   "version": "3.12.1"
  }
 },
 "nbformat": 4,
 "nbformat_minor": 5
}
